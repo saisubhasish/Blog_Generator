{
 "cells": [
  {
   "cell_type": "code",
   "execution_count": 1,
   "metadata": {},
   "outputs": [],
   "source": [
    "import os\n",
    "from openai import OpenAI\n",
    "from langchain import hub\n",
    "from pprint import pprint\n",
    "from langchain_openai import ChatOpenAI\n",
    "from langchain.agents import AgentExecutor\n",
    "from langchain_community.tools import ArxivQueryRun\n",
    "from langchain.agents import create_openai_tools_agent\n",
    "from langchain_community.tools import WikipediaQueryRun\n",
    "from langchain_community.utilities import ArxivAPIWrapper\n",
    "from langchain_community.utilities import WikipediaAPIWrapper\n",
    "\n",
    "\n",
    "OPENAI_API_KEY = os.getenv(\"OPENAI_API_KEY\")\n",
    "client = OpenAI(api_key=OPENAI_API_KEY)"
   ]
  },
  {
   "cell_type": "code",
   "execution_count": 2,
   "metadata": {},
   "outputs": [],
   "source": [
    "def content_generation(SYSTEM_TEMPLATE, USER_TEMPLATE):\n",
    "    response = client.chat.completions.create(\n",
    "    model=\"gpt-4-0125-preview\",\n",
    "    messages=[\n",
    "        {\"role\": \"system\", \"content\": SYSTEM_TEMPLATE},\n",
    "        {\"role\": \"user\", \"content\": USER_TEMPLATE},\n",
    "        ],\n",
    "        temperature=0.8,\n",
    "        response_format={'type':\"json_object\"}  \n",
    "        )\n",
    "    data = response.choices[0].message.content\n",
    "\n",
    "    return data"
   ]
  },
  {
   "cell_type": "code",
   "execution_count": 3,
   "metadata": {},
   "outputs": [],
   "source": [
    "DESCRIPTION_EXTRACTION_SYSTEM_TEMPLATE=\"Give me a long detailed description on the topic: {topic_name}\""
   ]
  },
  {
   "cell_type": "code",
   "execution_count": 4,
   "metadata": {},
   "outputs": [],
   "source": [
    "TITLE_GENERATION_SYSTEM_TEMPLATE = \"Craft a catchy title for a blog based on current trend by analyzing the given topic well: {topic_name}. Generate the response in JSON format provided as in the example.\"\n",
    "TITLE_GENERATION_USER_TEMPLATE = \"Example:\\n{'blog_title': 'Write title here'}\""
   ]
  },
  {
   "cell_type": "code",
   "execution_count": 5,
   "metadata": {},
   "outputs": [],
   "source": [
    "FORMAT_KEYWORD_GENERATION_SYSTEM_TEMPLATE = \"You are responsible for generating a short format/structure for a blog by analyzing the given title well: {blog_title}. Also, generate SEO-friendly keywords for good ranking of the blog. Generate the response in JSON format provided as in the example.\"\n",
    "FORMAT_KEYWORD_GENERATION_USER_TEMPLATE = \"Example:\\n{'format': 'Write format here',\\n'keywords': ['Write SEO friendly keywords here']}\""
   ]
  },
  {
   "cell_type": "code",
   "execution_count": 6,
   "metadata": {},
   "outputs": [],
   "source": [
    "BLOG_GENERATION_SYSTEM_TEMPLATE = \"You are an expert blogger. You are having great creativity in writing quality blogs by covering all the aspects of the title based on given context \\n<context>\\n{context}\\n</context>. Your writing focuses on providing valuable insights, actionable tips, or entertaining narratives that connect with your target audience. But you have some major flaws:\\n<flaws>\\n1. Making more grammar & typographical errors\\n2. No proper structure & flow for the writings\\n3. Getting diverted from the main purpose\\n4. Forgetting about the target audience\\n5. Less engagement & interactive elements\\n6. Lack of clarity in explanation. \\n</flaws> \\nCreate a {tone_of_the_blog_professional_casual_formal_friendly} tone simple, understandable blog post about the title: {blog_title} in the {domain} industry by following the format: {format_of_the_blog} and emphasizing these SEO keywords: {keywords}. Write over {number_of_words} words. The blog post should be in a {type_of_blog_beginner_or_advanced} guide style with {grammar_error_in_major_minor_zero} grammar errors. Ensure in the 'content' you are including the entire summary which may contain a combination of any of these points: \\n<schema>\\n1. Introduction, \\n2. Table of contents, \\n3. Detailed description, \\n4. Sub-headings, \\n5. codes/scripts explanations, \\n6. Conclusion, \\n7. Thank you message, \\n8. Resources(avoid giving links), \\n9. Recap of the blog, etc.]. \\n</schema>\\nShow your creativity to write this blog beautifully. Ensure the blog provides valuable insights, engages the reader, and is well-structured with clear headings and subheadings. Incorporate relevant examples, statistics, and references to support key points. Maintain professionalism and authority while catering to the target audience's preferences. \\n<guidelines>\\n- Before generating the response must ensure that you are repeating your flaws to make this blog a more humanistic response\\n- Use transition words.\\n- Must include the code snippet with an explanation if the title contains any technical concepts. \\n- Use active voice.\\n- Please generate the response in JSON format.\\n</guidelines>\"\n",
    "BLOG_GENERATION_USER_TEMPLATE = \"\\nExample json format:\\n{'blog': {'title': 'write title here', 'content': 'writte content here', 'key_words': 'write key points here'}}\""
   ]
  },
  {
   "cell_type": "code",
   "execution_count": 7,
   "metadata": {},
   "outputs": [],
   "source": [
    "api_wrapper = WikipediaAPIWrapper(top_k_results=1, doc_contain_chars_max=500)\n",
    "wiki=WikipediaQueryRun(api_wrapper=api_wrapper)\n",
    "\n",
    "arxiv_wrapper=ArxivAPIWrapper(top_k_results=1, doc_contain_chars_max=500)\n",
    "arxiv=ArxivQueryRun(arxiv_wrapper=arxiv_wrapper)"
   ]
  },
  {
   "cell_type": "code",
   "execution_count": 8,
   "metadata": {},
   "outputs": [],
   "source": [
    "tools = [wiki, arxiv]"
   ]
  },
  {
   "cell_type": "code",
   "execution_count": 9,
   "metadata": {},
   "outputs": [],
   "source": [
    "llm = ChatOpenAI(model=\"gpt-4-0125-preview\", temperature=0)\n",
    "prompt=hub.pull(\"hwchase17/openai-functions-agent\")\n",
    "agent = create_openai_tools_agent(llm, tools, prompt)\n",
    "agent_executor = AgentExecutor(agent=agent, tools=tools, verbose=False)"
   ]
  },
  {
   "cell_type": "code",
   "execution_count": 10,
   "metadata": {},
   "outputs": [],
   "source": [
    "def blog_content(topic_name, tone_of_the_blog_professional_casual_formal_friendly, domain, number_of_words, type_of_blog_beginner_or_advanced, grammar_error_in_major_minor_zero):\n",
    "    response = agent_executor.invoke({'input': DESCRIPTION_EXTRACTION_SYSTEM_TEMPLATE.format(topic_name=topic_name)})\n",
    "    context=response['output']\n",
    "    res0=eval(content_generation(TITLE_GENERATION_SYSTEM_TEMPLATE.format(topic_name=topic_name), TITLE_GENERATION_USER_TEMPLATE))\n",
    "    blog_title=res0['blog_title']\n",
    "    res1 = eval(content_generation(FORMAT_KEYWORD_GENERATION_SYSTEM_TEMPLATE.format(blog_title=blog_title), FORMAT_KEYWORD_GENERATION_USER_TEMPLATE))\n",
    "    format=res1['format']\n",
    "    keywords=res1['keywords']\n",
    "    res2 = content_generation(BLOG_GENERATION_SYSTEM_TEMPLATE.format(context=context,tone_of_the_blog_professional_casual_formal_friendly=tone_of_the_blog_professional_casual_formal_friendly, blog_title=blog_title, domain=domain, format_of_the_blog=format, keywords=keywords, number_of_words=number_of_words, type_of_blog_beginner_or_advanced=type_of_blog_beginner_or_advanced, grammar_error_in_major_minor_zero=grammar_error_in_major_minor_zero,), BLOG_GENERATION_USER_TEMPLATE)\n",
    "\n",
    "    return res2"
   ]
  },
  {
   "cell_type": "code",
   "execution_count": 11,
   "metadata": {},
   "outputs": [],
   "source": [
    "topic_name='Multi modal Language Model'\n",
    "tone_of_the_blog_professional_casual_formal_friendly = 'casual'\n",
    "domain = 'Data Science'\n",
    "number_of_words = 1000\n",
    "type_of_blog_beginner_or_advanced = 'advanced'\n",
    "grammar_error_in_major_minor_zero = 'minor'\n",
    "\n",
    "result = blog_content(topic_name=topic_name, tone_of_the_blog_professional_casual_formal_friendly=tone_of_the_blog_professional_casual_formal_friendly, domain=domain, number_of_words=number_of_words, type_of_blog_beginner_or_advanced=type_of_blog_beginner_or_advanced, grammar_error_in_major_minor_zero=grammar_error_in_major_minor_zero)"
   ]
  },
  {
   "cell_type": "code",
   "execution_count": 12,
   "metadata": {},
   "outputs": [
    {
     "name": "stdout",
     "output_type": "stream",
     "text": [
      "(\"Bridging Worlds: The Power of Multi-Modal Language Models in Today's Tech \"\n",
      " 'Landscape')\n"
     ]
    }
   ],
   "source": [
    "pprint(eval(result)['blog']['title'])"
   ]
  },
  {
   "cell_type": "code",
   "execution_count": 13,
   "metadata": {},
   "outputs": [
    {
     "name": "stdout",
     "output_type": "stream",
     "text": [
      "(\"Hey there, tech enthusiasts! Today we're diving into a game-changing area in \"\n",
      " \"the data science industry: multi-modal language models. These aren't your \"\n",
      " \"everyday AI systems; they're more like the Swiss Army knife in the tech \"\n",
      " \"toolbox. Let's break it down and see why they're making waves across \"\n",
      " 'sectors.\\n'\n",
      " '\\n'\n",
      " '**Introduction**\\n'\n",
      " '\\n'\n",
      " 'In the digital age, where information zooms around in various formats—text, '\n",
      " 'images, audio, and video—multi-modal language models stand out by '\n",
      " \"understanding and processing this diverse data simultaneously. They're \"\n",
      " \"pivotal in today's tech landscape, pushing the boundaries of machine \"\n",
      " 'learning and AI capabilities. But what makes them so special? Hang tight, as '\n",
      " 'we explore this fascinating world.\\n'\n",
      " '\\n'\n",
      " '**Understanding Multi-Modal Language Models**\\n'\n",
      " '\\n'\n",
      " 'At their core, multi-modal language models are AI systems designed to digest '\n",
      " 'and interpret data across different formats. Unlike traditional models that '\n",
      " 'might only handle text, these models juggle text, images, audio, you name '\n",
      " 'it, all at once. This versatility allows them to gain a more holistic '\n",
      " 'understanding of information, setting them apart from their predecessors.\\n'\n",
      " '\\n'\n",
      " '**The Power of Multi-Modal Language Models**\\n'\n",
      " '\\n'\n",
      " 'The real magic happens when these models apply their broad understanding to '\n",
      " \"various applications. From content creation to emotion recognition, they're \"\n",
      " \"enhancing AI's role across industries. Imagine a virtual assistant that \"\n",
      " \"doesn't just hear your voice but can read your facial expressions too. \"\n",
      " \"That's the kind of advancement we're talking about.\\n\"\n",
      " '\\n'\n",
      " '**Bridging Worlds with Technology**\\n'\n",
      " '\\n'\n",
      " 'Multi-modal language models are like bridges connecting disparate systems '\n",
      " 'and data types. They enable smoother human-machine interactions by '\n",
      " 'understanding the nuances of our multi-faceted world. This integration is a '\n",
      " 'huge leap forward, making technology more intuitive and responsive to our '\n",
      " 'needs.\\n'\n",
      " '\\n'\n",
      " '**Challenges and Opportunities**\\n'\n",
      " '\\n'\n",
      " \"Of course, integrating various data types into a coherent model isn't a walk \"\n",
      " 'in the park. These models face challenges like data scarcity and the '\n",
      " 'complexity of processing multiple data forms. However, the future looks '\n",
      " 'bright as researchers explore new ways to enhance cross-modal integration '\n",
      " 'and efficiency, promising even more innovative applications ahead.\\n'\n",
      " '\\n'\n",
      " '**Conclusion**\\n'\n",
      " '\\n'\n",
      " 'The significance of multi-modal language models in the tech landscape cannot '\n",
      " \"be overstated. They're not just improving machine learning; they're \"\n",
      " 'revolutionizing how we interact with technology. As we continue to embrace '\n",
      " \"these advances, we're stepping into a future where AI understands our world \"\n",
      " 'as well as we do.\\n'\n",
      " '\\n'\n",
      " 'And there you have it, folks! Thanks for sticking around. Keep an eye on '\n",
      " 'this space for more insights into technology innovation and the fascinating '\n",
      " \"world of AI. Let's keep bridging worlds with AI, enhancing machine learning, \"\n",
      " \"and pushing the envelope of what's possible.\\n\"\n",
      " '\\n'\n",
      " 'Remember, the future of AI technology is not just about what machines can do '\n",
      " 'for us, but how we can work together more seamlessly. Cheers to the next '\n",
      " 'chapter in human-machine interaction!\\n'\n",
      " '\\n'\n",
      " '**Recap of the Blog**\\n'\n",
      " '\\n'\n",
      " '- Multi-modal language models are reshaping the tech landscape.\\n'\n",
      " '- They understand and process multiple data types, enhancing AI '\n",
      " 'applications.\\n'\n",
      " '- Bridging the gap between human and machine interactions.\\n'\n",
      " '- Facing challenges but promising a future of innovative solutions.\\n'\n",
      " '- Embrace these technologies for groundbreaking advancements in AI.')\n"
     ]
    }
   ],
   "source": [
    "pprint(eval(result)['blog']['content'])"
   ]
  },
  {
   "cell_type": "code",
   "execution_count": null,
   "metadata": {},
   "outputs": [],
   "source": []
  },
  {
   "cell_type": "code",
   "execution_count": null,
   "metadata": {},
   "outputs": [],
   "source": []
  },
  {
   "cell_type": "code",
   "execution_count": null,
   "metadata": {},
   "outputs": [],
   "source": []
  },
  {
   "cell_type": "code",
   "execution_count": null,
   "metadata": {},
   "outputs": [],
   "source": []
  },
  {
   "cell_type": "code",
   "execution_count": null,
   "metadata": {},
   "outputs": [],
   "source": []
  }
 ],
 "metadata": {
  "kernelspec": {
   "display_name": "Python 3",
   "language": "python",
   "name": "python3"
  },
  "language_info": {
   "codemirror_mode": {
    "name": "ipython",
    "version": 3
   },
   "file_extension": ".py",
   "mimetype": "text/x-python",
   "name": "python",
   "nbconvert_exporter": "python",
   "pygments_lexer": "ipython3",
   "version": "3.12.3"
  }
 },
 "nbformat": 4,
 "nbformat_minor": 2
}
